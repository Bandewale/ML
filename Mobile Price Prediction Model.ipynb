{
 "cells": [
  {
   "cell_type": "code",
   "execution_count": 1,
   "id": "81215d42",
   "metadata": {},
   "outputs": [],
   "source": [
    "# A model that estimates the price range of Mobiles based on its features"
   ]
  },
  {
   "cell_type": "code",
   "execution_count": 29,
   "id": "d2a2d6eb",
   "metadata": {},
   "outputs": [],
   "source": [
    "# importing required libraries\n",
    "import numpy as np \n",
    "import pandas as pd\n",
    "import matplotlib.pyplot as plt\n",
    "df = pd.read_csv(\"mobile_price_range_data (2).csv\") #reading the dataset/input file\n"
   ]
  },
  {
   "cell_type": "code",
   "execution_count": 30,
   "id": "cc9ffb78",
   "metadata": {},
   "outputs": [
    {
     "data": {
      "text/html": [
       "<div>\n",
       "<style scoped>\n",
       "    .dataframe tbody tr th:only-of-type {\n",
       "        vertical-align: middle;\n",
       "    }\n",
       "\n",
       "    .dataframe tbody tr th {\n",
       "        vertical-align: top;\n",
       "    }\n",
       "\n",
       "    .dataframe thead th {\n",
       "        text-align: right;\n",
       "    }\n",
       "</style>\n",
       "<table border=\"1\" class=\"dataframe\">\n",
       "  <thead>\n",
       "    <tr style=\"text-align: right;\">\n",
       "      <th></th>\n",
       "      <th>battery_power</th>\n",
       "      <th>blue</th>\n",
       "      <th>clock_speed</th>\n",
       "      <th>dual_sim</th>\n",
       "      <th>fc</th>\n",
       "      <th>four_g</th>\n",
       "      <th>int_memory</th>\n",
       "      <th>m_dep</th>\n",
       "      <th>mobile_wt</th>\n",
       "      <th>n_cores</th>\n",
       "      <th>...</th>\n",
       "      <th>px_height</th>\n",
       "      <th>px_width</th>\n",
       "      <th>ram</th>\n",
       "      <th>sc_h</th>\n",
       "      <th>sc_w</th>\n",
       "      <th>talk_time</th>\n",
       "      <th>three_g</th>\n",
       "      <th>touch_screen</th>\n",
       "      <th>wifi</th>\n",
       "      <th>price_range</th>\n",
       "    </tr>\n",
       "  </thead>\n",
       "  <tbody>\n",
       "    <tr>\n",
       "      <th>0</th>\n",
       "      <td>842</td>\n",
       "      <td>0</td>\n",
       "      <td>2.2</td>\n",
       "      <td>0</td>\n",
       "      <td>1</td>\n",
       "      <td>0</td>\n",
       "      <td>7</td>\n",
       "      <td>0.6</td>\n",
       "      <td>188</td>\n",
       "      <td>2</td>\n",
       "      <td>...</td>\n",
       "      <td>20</td>\n",
       "      <td>756</td>\n",
       "      <td>2549</td>\n",
       "      <td>9</td>\n",
       "      <td>7</td>\n",
       "      <td>19</td>\n",
       "      <td>0</td>\n",
       "      <td>0</td>\n",
       "      <td>1</td>\n",
       "      <td>1</td>\n",
       "    </tr>\n",
       "    <tr>\n",
       "      <th>1</th>\n",
       "      <td>1021</td>\n",
       "      <td>1</td>\n",
       "      <td>0.5</td>\n",
       "      <td>1</td>\n",
       "      <td>0</td>\n",
       "      <td>1</td>\n",
       "      <td>53</td>\n",
       "      <td>0.7</td>\n",
       "      <td>136</td>\n",
       "      <td>3</td>\n",
       "      <td>...</td>\n",
       "      <td>905</td>\n",
       "      <td>1988</td>\n",
       "      <td>2631</td>\n",
       "      <td>17</td>\n",
       "      <td>3</td>\n",
       "      <td>7</td>\n",
       "      <td>1</td>\n",
       "      <td>1</td>\n",
       "      <td>0</td>\n",
       "      <td>2</td>\n",
       "    </tr>\n",
       "    <tr>\n",
       "      <th>2</th>\n",
       "      <td>563</td>\n",
       "      <td>1</td>\n",
       "      <td>0.5</td>\n",
       "      <td>1</td>\n",
       "      <td>2</td>\n",
       "      <td>1</td>\n",
       "      <td>41</td>\n",
       "      <td>0.9</td>\n",
       "      <td>145</td>\n",
       "      <td>5</td>\n",
       "      <td>...</td>\n",
       "      <td>1263</td>\n",
       "      <td>1716</td>\n",
       "      <td>2603</td>\n",
       "      <td>11</td>\n",
       "      <td>2</td>\n",
       "      <td>9</td>\n",
       "      <td>1</td>\n",
       "      <td>1</td>\n",
       "      <td>0</td>\n",
       "      <td>2</td>\n",
       "    </tr>\n",
       "    <tr>\n",
       "      <th>3</th>\n",
       "      <td>615</td>\n",
       "      <td>1</td>\n",
       "      <td>2.5</td>\n",
       "      <td>0</td>\n",
       "      <td>0</td>\n",
       "      <td>0</td>\n",
       "      <td>10</td>\n",
       "      <td>0.8</td>\n",
       "      <td>131</td>\n",
       "      <td>6</td>\n",
       "      <td>...</td>\n",
       "      <td>1216</td>\n",
       "      <td>1786</td>\n",
       "      <td>2769</td>\n",
       "      <td>16</td>\n",
       "      <td>8</td>\n",
       "      <td>11</td>\n",
       "      <td>1</td>\n",
       "      <td>0</td>\n",
       "      <td>0</td>\n",
       "      <td>2</td>\n",
       "    </tr>\n",
       "    <tr>\n",
       "      <th>4</th>\n",
       "      <td>1821</td>\n",
       "      <td>1</td>\n",
       "      <td>1.2</td>\n",
       "      <td>0</td>\n",
       "      <td>13</td>\n",
       "      <td>1</td>\n",
       "      <td>44</td>\n",
       "      <td>0.6</td>\n",
       "      <td>141</td>\n",
       "      <td>2</td>\n",
       "      <td>...</td>\n",
       "      <td>1208</td>\n",
       "      <td>1212</td>\n",
       "      <td>1411</td>\n",
       "      <td>8</td>\n",
       "      <td>2</td>\n",
       "      <td>15</td>\n",
       "      <td>1</td>\n",
       "      <td>1</td>\n",
       "      <td>0</td>\n",
       "      <td>1</td>\n",
       "    </tr>\n",
       "  </tbody>\n",
       "</table>\n",
       "<p>5 rows × 21 columns</p>\n",
       "</div>"
      ],
      "text/plain": [
       "   battery_power  blue  clock_speed  dual_sim  fc  four_g  int_memory  m_dep  \\\n",
       "0            842     0          2.2         0   1       0           7    0.6   \n",
       "1           1021     1          0.5         1   0       1          53    0.7   \n",
       "2            563     1          0.5         1   2       1          41    0.9   \n",
       "3            615     1          2.5         0   0       0          10    0.8   \n",
       "4           1821     1          1.2         0  13       1          44    0.6   \n",
       "\n",
       "   mobile_wt  n_cores  ...  px_height  px_width   ram  sc_h  sc_w  talk_time  \\\n",
       "0        188        2  ...         20       756  2549     9     7         19   \n",
       "1        136        3  ...        905      1988  2631    17     3          7   \n",
       "2        145        5  ...       1263      1716  2603    11     2          9   \n",
       "3        131        6  ...       1216      1786  2769    16     8         11   \n",
       "4        141        2  ...       1208      1212  1411     8     2         15   \n",
       "\n",
       "   three_g  touch_screen  wifi  price_range  \n",
       "0        0             0     1            1  \n",
       "1        1             1     0            2  \n",
       "2        1             1     0            2  \n",
       "3        1             0     0            2  \n",
       "4        1             1     0            1  \n",
       "\n",
       "[5 rows x 21 columns]"
      ]
     },
     "execution_count": 30,
     "metadata": {},
     "output_type": "execute_result"
    }
   ],
   "source": [
    "#reading the first five rows/tuples from the dataset\n",
    "df.head()     "
   ]
  },
  {
   "cell_type": "code",
   "execution_count": 4,
   "id": "e6b4b000",
   "metadata": {},
   "outputs": [
    {
     "data": {
      "text/html": [
       "<div>\n",
       "<style scoped>\n",
       "    .dataframe tbody tr th:only-of-type {\n",
       "        vertical-align: middle;\n",
       "    }\n",
       "\n",
       "    .dataframe tbody tr th {\n",
       "        vertical-align: top;\n",
       "    }\n",
       "\n",
       "    .dataframe thead th {\n",
       "        text-align: right;\n",
       "    }\n",
       "</style>\n",
       "<table border=\"1\" class=\"dataframe\">\n",
       "  <thead>\n",
       "    <tr style=\"text-align: right;\">\n",
       "      <th></th>\n",
       "      <th>battery_power</th>\n",
       "      <th>blue</th>\n",
       "      <th>clock_speed</th>\n",
       "      <th>dual_sim</th>\n",
       "      <th>fc</th>\n",
       "      <th>four_g</th>\n",
       "      <th>int_memory</th>\n",
       "      <th>m_dep</th>\n",
       "      <th>mobile_wt</th>\n",
       "      <th>n_cores</th>\n",
       "      <th>...</th>\n",
       "      <th>px_height</th>\n",
       "      <th>px_width</th>\n",
       "      <th>ram</th>\n",
       "      <th>sc_h</th>\n",
       "      <th>sc_w</th>\n",
       "      <th>talk_time</th>\n",
       "      <th>three_g</th>\n",
       "      <th>touch_screen</th>\n",
       "      <th>wifi</th>\n",
       "      <th>price_range</th>\n",
       "    </tr>\n",
       "  </thead>\n",
       "  <tbody>\n",
       "    <tr>\n",
       "      <th>1995</th>\n",
       "      <td>794</td>\n",
       "      <td>1</td>\n",
       "      <td>0.5</td>\n",
       "      <td>1</td>\n",
       "      <td>0</td>\n",
       "      <td>1</td>\n",
       "      <td>2</td>\n",
       "      <td>0.8</td>\n",
       "      <td>106</td>\n",
       "      <td>6</td>\n",
       "      <td>...</td>\n",
       "      <td>1222</td>\n",
       "      <td>1890</td>\n",
       "      <td>668</td>\n",
       "      <td>13</td>\n",
       "      <td>4</td>\n",
       "      <td>19</td>\n",
       "      <td>1</td>\n",
       "      <td>1</td>\n",
       "      <td>0</td>\n",
       "      <td>0</td>\n",
       "    </tr>\n",
       "    <tr>\n",
       "      <th>1996</th>\n",
       "      <td>1965</td>\n",
       "      <td>1</td>\n",
       "      <td>2.6</td>\n",
       "      <td>1</td>\n",
       "      <td>0</td>\n",
       "      <td>0</td>\n",
       "      <td>39</td>\n",
       "      <td>0.2</td>\n",
       "      <td>187</td>\n",
       "      <td>4</td>\n",
       "      <td>...</td>\n",
       "      <td>915</td>\n",
       "      <td>1965</td>\n",
       "      <td>2032</td>\n",
       "      <td>11</td>\n",
       "      <td>10</td>\n",
       "      <td>16</td>\n",
       "      <td>1</td>\n",
       "      <td>1</td>\n",
       "      <td>1</td>\n",
       "      <td>2</td>\n",
       "    </tr>\n",
       "    <tr>\n",
       "      <th>1997</th>\n",
       "      <td>1911</td>\n",
       "      <td>0</td>\n",
       "      <td>0.9</td>\n",
       "      <td>1</td>\n",
       "      <td>1</td>\n",
       "      <td>1</td>\n",
       "      <td>36</td>\n",
       "      <td>0.7</td>\n",
       "      <td>108</td>\n",
       "      <td>8</td>\n",
       "      <td>...</td>\n",
       "      <td>868</td>\n",
       "      <td>1632</td>\n",
       "      <td>3057</td>\n",
       "      <td>9</td>\n",
       "      <td>1</td>\n",
       "      <td>5</td>\n",
       "      <td>1</td>\n",
       "      <td>1</td>\n",
       "      <td>0</td>\n",
       "      <td>3</td>\n",
       "    </tr>\n",
       "    <tr>\n",
       "      <th>1998</th>\n",
       "      <td>1512</td>\n",
       "      <td>0</td>\n",
       "      <td>0.9</td>\n",
       "      <td>0</td>\n",
       "      <td>4</td>\n",
       "      <td>1</td>\n",
       "      <td>46</td>\n",
       "      <td>0.1</td>\n",
       "      <td>145</td>\n",
       "      <td>5</td>\n",
       "      <td>...</td>\n",
       "      <td>336</td>\n",
       "      <td>670</td>\n",
       "      <td>869</td>\n",
       "      <td>18</td>\n",
       "      <td>10</td>\n",
       "      <td>19</td>\n",
       "      <td>1</td>\n",
       "      <td>1</td>\n",
       "      <td>1</td>\n",
       "      <td>0</td>\n",
       "    </tr>\n",
       "    <tr>\n",
       "      <th>1999</th>\n",
       "      <td>510</td>\n",
       "      <td>1</td>\n",
       "      <td>2.0</td>\n",
       "      <td>1</td>\n",
       "      <td>5</td>\n",
       "      <td>1</td>\n",
       "      <td>45</td>\n",
       "      <td>0.9</td>\n",
       "      <td>168</td>\n",
       "      <td>6</td>\n",
       "      <td>...</td>\n",
       "      <td>483</td>\n",
       "      <td>754</td>\n",
       "      <td>3919</td>\n",
       "      <td>19</td>\n",
       "      <td>4</td>\n",
       "      <td>2</td>\n",
       "      <td>1</td>\n",
       "      <td>1</td>\n",
       "      <td>1</td>\n",
       "      <td>3</td>\n",
       "    </tr>\n",
       "  </tbody>\n",
       "</table>\n",
       "<p>5 rows × 21 columns</p>\n",
       "</div>"
      ],
      "text/plain": [
       "      battery_power  blue  clock_speed  dual_sim  fc  four_g  int_memory  \\\n",
       "1995            794     1          0.5         1   0       1           2   \n",
       "1996           1965     1          2.6         1   0       0          39   \n",
       "1997           1911     0          0.9         1   1       1          36   \n",
       "1998           1512     0          0.9         0   4       1          46   \n",
       "1999            510     1          2.0         1   5       1          45   \n",
       "\n",
       "      m_dep  mobile_wt  n_cores  ...  px_height  px_width   ram  sc_h  sc_w  \\\n",
       "1995    0.8        106        6  ...       1222      1890   668    13     4   \n",
       "1996    0.2        187        4  ...        915      1965  2032    11    10   \n",
       "1997    0.7        108        8  ...        868      1632  3057     9     1   \n",
       "1998    0.1        145        5  ...        336       670   869    18    10   \n",
       "1999    0.9        168        6  ...        483       754  3919    19     4   \n",
       "\n",
       "      talk_time  three_g  touch_screen  wifi  price_range  \n",
       "1995         19        1             1     0            0  \n",
       "1996         16        1             1     1            2  \n",
       "1997          5        1             1     0            3  \n",
       "1998         19        1             1     1            0  \n",
       "1999          2        1             1     1            3  \n",
       "\n",
       "[5 rows x 21 columns]"
      ]
     },
     "execution_count": 4,
     "metadata": {},
     "output_type": "execute_result"
    }
   ],
   "source": [
    "df.tail() #reading the last five rows from the dataset"
   ]
  },
  {
   "cell_type": "code",
   "execution_count": 5,
   "id": "2f4f5cbe",
   "metadata": {},
   "outputs": [
    {
     "data": {
      "text/plain": [
       "(2000, 21)"
      ]
     },
     "execution_count": 5,
     "metadata": {},
     "output_type": "execute_result"
    }
   ],
   "source": [
    "#it gives the no. of rows and columns of dataset\n",
    "df.shape"
   ]
  },
  {
   "cell_type": "code",
   "execution_count": 28,
   "id": "5538bf82",
   "metadata": {},
   "outputs": [
    {
     "data": {
      "text/plain": [
       "battery_power    1094\n",
       "blue                2\n",
       "clock_speed        26\n",
       "dual_sim            2\n",
       "fc                 20\n",
       "four_g              2\n",
       "int_memory         63\n",
       "m_dep              10\n",
       "mobile_wt         121\n",
       "n_cores             8\n",
       "pc                 21\n",
       "px_height        1137\n",
       "px_width         1109\n",
       "ram              1562\n",
       "sc_h               15\n",
       "sc_w               19\n",
       "talk_time          19\n",
       "three_g             2\n",
       "touch_screen        2\n",
       "wifi                2\n",
       "price_range         4\n",
       "dtype: int64"
      ]
     },
     "execution_count": 28,
     "metadata": {},
     "output_type": "execute_result"
    }
   ],
   "source": [
    "# results a list of unique values\n",
    "df.nunique() "
   ]
  },
  {
   "cell_type": "code",
   "execution_count": 31,
   "id": "fe7c1602",
   "metadata": {},
   "outputs": [
    {
     "name": "stdout",
     "output_type": "stream",
     "text": [
      "<class 'pandas.core.frame.DataFrame'>\n",
      "RangeIndex: 2000 entries, 0 to 1999\n",
      "Data columns (total 21 columns):\n",
      " #   Column         Non-Null Count  Dtype  \n",
      "---  ------         --------------  -----  \n",
      " 0   battery_power  2000 non-null   int64  \n",
      " 1   blue           2000 non-null   int64  \n",
      " 2   clock_speed    2000 non-null   float64\n",
      " 3   dual_sim       2000 non-null   int64  \n",
      " 4   fc             2000 non-null   int64  \n",
      " 5   four_g         2000 non-null   int64  \n",
      " 6   int_memory     2000 non-null   int64  \n",
      " 7   m_dep          2000 non-null   float64\n",
      " 8   mobile_wt      2000 non-null   int64  \n",
      " 9   n_cores        2000 non-null   int64  \n",
      " 10  pc             2000 non-null   int64  \n",
      " 11  px_height      2000 non-null   int64  \n",
      " 12  px_width       2000 non-null   int64  \n",
      " 13  ram            2000 non-null   int64  \n",
      " 14  sc_h           2000 non-null   int64  \n",
      " 15  sc_w           2000 non-null   int64  \n",
      " 16  talk_time      2000 non-null   int64  \n",
      " 17  three_g        2000 non-null   int64  \n",
      " 18  touch_screen   2000 non-null   int64  \n",
      " 19  wifi           2000 non-null   int64  \n",
      " 20  price_range    2000 non-null   int64  \n",
      "dtypes: float64(2), int64(19)\n",
      "memory usage: 328.2 KB\n"
     ]
    }
   ],
   "source": [
    "#Prints information about the dataframe\n",
    "df.info()"
   ]
  },
  {
   "cell_type": "code",
   "execution_count": 32,
   "id": "b9982336",
   "metadata": {},
   "outputs": [
    {
     "data": {
      "text/html": [
       "<div>\n",
       "<style scoped>\n",
       "    .dataframe tbody tr th:only-of-type {\n",
       "        vertical-align: middle;\n",
       "    }\n",
       "\n",
       "    .dataframe tbody tr th {\n",
       "        vertical-align: top;\n",
       "    }\n",
       "\n",
       "    .dataframe thead th {\n",
       "        text-align: right;\n",
       "    }\n",
       "</style>\n",
       "<table border=\"1\" class=\"dataframe\">\n",
       "  <thead>\n",
       "    <tr style=\"text-align: right;\">\n",
       "      <th></th>\n",
       "      <th>battery_power</th>\n",
       "      <th>blue</th>\n",
       "      <th>clock_speed</th>\n",
       "      <th>dual_sim</th>\n",
       "      <th>fc</th>\n",
       "      <th>four_g</th>\n",
       "      <th>int_memory</th>\n",
       "      <th>m_dep</th>\n",
       "      <th>mobile_wt</th>\n",
       "      <th>n_cores</th>\n",
       "      <th>...</th>\n",
       "      <th>px_height</th>\n",
       "      <th>px_width</th>\n",
       "      <th>ram</th>\n",
       "      <th>sc_h</th>\n",
       "      <th>sc_w</th>\n",
       "      <th>talk_time</th>\n",
       "      <th>three_g</th>\n",
       "      <th>touch_screen</th>\n",
       "      <th>wifi</th>\n",
       "      <th>price_range</th>\n",
       "    </tr>\n",
       "  </thead>\n",
       "  <tbody>\n",
       "    <tr>\n",
       "      <th>count</th>\n",
       "      <td>2000.000000</td>\n",
       "      <td>2000.0000</td>\n",
       "      <td>2000.000000</td>\n",
       "      <td>2000.000000</td>\n",
       "      <td>2000.000000</td>\n",
       "      <td>2000.000000</td>\n",
       "      <td>2000.000000</td>\n",
       "      <td>2000.000000</td>\n",
       "      <td>2000.000000</td>\n",
       "      <td>2000.000000</td>\n",
       "      <td>...</td>\n",
       "      <td>2000.000000</td>\n",
       "      <td>2000.000000</td>\n",
       "      <td>2000.000000</td>\n",
       "      <td>2000.000000</td>\n",
       "      <td>2000.000000</td>\n",
       "      <td>2000.000000</td>\n",
       "      <td>2000.000000</td>\n",
       "      <td>2000.000000</td>\n",
       "      <td>2000.000000</td>\n",
       "      <td>2000.000000</td>\n",
       "    </tr>\n",
       "    <tr>\n",
       "      <th>mean</th>\n",
       "      <td>1238.518500</td>\n",
       "      <td>0.4950</td>\n",
       "      <td>1.522250</td>\n",
       "      <td>0.509500</td>\n",
       "      <td>4.309500</td>\n",
       "      <td>0.521500</td>\n",
       "      <td>32.046500</td>\n",
       "      <td>0.501750</td>\n",
       "      <td>140.249000</td>\n",
       "      <td>4.520500</td>\n",
       "      <td>...</td>\n",
       "      <td>645.108000</td>\n",
       "      <td>1251.515500</td>\n",
       "      <td>2124.213000</td>\n",
       "      <td>12.306500</td>\n",
       "      <td>5.767000</td>\n",
       "      <td>11.011000</td>\n",
       "      <td>0.761500</td>\n",
       "      <td>0.503000</td>\n",
       "      <td>0.507000</td>\n",
       "      <td>1.500000</td>\n",
       "    </tr>\n",
       "    <tr>\n",
       "      <th>std</th>\n",
       "      <td>439.418206</td>\n",
       "      <td>0.5001</td>\n",
       "      <td>0.816004</td>\n",
       "      <td>0.500035</td>\n",
       "      <td>4.341444</td>\n",
       "      <td>0.499662</td>\n",
       "      <td>18.145715</td>\n",
       "      <td>0.288416</td>\n",
       "      <td>35.399655</td>\n",
       "      <td>2.287837</td>\n",
       "      <td>...</td>\n",
       "      <td>443.780811</td>\n",
       "      <td>432.199447</td>\n",
       "      <td>1084.732044</td>\n",
       "      <td>4.213245</td>\n",
       "      <td>4.356398</td>\n",
       "      <td>5.463955</td>\n",
       "      <td>0.426273</td>\n",
       "      <td>0.500116</td>\n",
       "      <td>0.500076</td>\n",
       "      <td>1.118314</td>\n",
       "    </tr>\n",
       "    <tr>\n",
       "      <th>min</th>\n",
       "      <td>501.000000</td>\n",
       "      <td>0.0000</td>\n",
       "      <td>0.500000</td>\n",
       "      <td>0.000000</td>\n",
       "      <td>0.000000</td>\n",
       "      <td>0.000000</td>\n",
       "      <td>2.000000</td>\n",
       "      <td>0.100000</td>\n",
       "      <td>80.000000</td>\n",
       "      <td>1.000000</td>\n",
       "      <td>...</td>\n",
       "      <td>0.000000</td>\n",
       "      <td>500.000000</td>\n",
       "      <td>256.000000</td>\n",
       "      <td>5.000000</td>\n",
       "      <td>0.000000</td>\n",
       "      <td>2.000000</td>\n",
       "      <td>0.000000</td>\n",
       "      <td>0.000000</td>\n",
       "      <td>0.000000</td>\n",
       "      <td>0.000000</td>\n",
       "    </tr>\n",
       "    <tr>\n",
       "      <th>25%</th>\n",
       "      <td>851.750000</td>\n",
       "      <td>0.0000</td>\n",
       "      <td>0.700000</td>\n",
       "      <td>0.000000</td>\n",
       "      <td>1.000000</td>\n",
       "      <td>0.000000</td>\n",
       "      <td>16.000000</td>\n",
       "      <td>0.200000</td>\n",
       "      <td>109.000000</td>\n",
       "      <td>3.000000</td>\n",
       "      <td>...</td>\n",
       "      <td>282.750000</td>\n",
       "      <td>874.750000</td>\n",
       "      <td>1207.500000</td>\n",
       "      <td>9.000000</td>\n",
       "      <td>2.000000</td>\n",
       "      <td>6.000000</td>\n",
       "      <td>1.000000</td>\n",
       "      <td>0.000000</td>\n",
       "      <td>0.000000</td>\n",
       "      <td>0.750000</td>\n",
       "    </tr>\n",
       "    <tr>\n",
       "      <th>50%</th>\n",
       "      <td>1226.000000</td>\n",
       "      <td>0.0000</td>\n",
       "      <td>1.500000</td>\n",
       "      <td>1.000000</td>\n",
       "      <td>3.000000</td>\n",
       "      <td>1.000000</td>\n",
       "      <td>32.000000</td>\n",
       "      <td>0.500000</td>\n",
       "      <td>141.000000</td>\n",
       "      <td>4.000000</td>\n",
       "      <td>...</td>\n",
       "      <td>564.000000</td>\n",
       "      <td>1247.000000</td>\n",
       "      <td>2146.500000</td>\n",
       "      <td>12.000000</td>\n",
       "      <td>5.000000</td>\n",
       "      <td>11.000000</td>\n",
       "      <td>1.000000</td>\n",
       "      <td>1.000000</td>\n",
       "      <td>1.000000</td>\n",
       "      <td>1.500000</td>\n",
       "    </tr>\n",
       "    <tr>\n",
       "      <th>75%</th>\n",
       "      <td>1615.250000</td>\n",
       "      <td>1.0000</td>\n",
       "      <td>2.200000</td>\n",
       "      <td>1.000000</td>\n",
       "      <td>7.000000</td>\n",
       "      <td>1.000000</td>\n",
       "      <td>48.000000</td>\n",
       "      <td>0.800000</td>\n",
       "      <td>170.000000</td>\n",
       "      <td>7.000000</td>\n",
       "      <td>...</td>\n",
       "      <td>947.250000</td>\n",
       "      <td>1633.000000</td>\n",
       "      <td>3064.500000</td>\n",
       "      <td>16.000000</td>\n",
       "      <td>9.000000</td>\n",
       "      <td>16.000000</td>\n",
       "      <td>1.000000</td>\n",
       "      <td>1.000000</td>\n",
       "      <td>1.000000</td>\n",
       "      <td>2.250000</td>\n",
       "    </tr>\n",
       "    <tr>\n",
       "      <th>max</th>\n",
       "      <td>1998.000000</td>\n",
       "      <td>1.0000</td>\n",
       "      <td>3.000000</td>\n",
       "      <td>1.000000</td>\n",
       "      <td>19.000000</td>\n",
       "      <td>1.000000</td>\n",
       "      <td>64.000000</td>\n",
       "      <td>1.000000</td>\n",
       "      <td>200.000000</td>\n",
       "      <td>8.000000</td>\n",
       "      <td>...</td>\n",
       "      <td>1960.000000</td>\n",
       "      <td>1998.000000</td>\n",
       "      <td>3998.000000</td>\n",
       "      <td>19.000000</td>\n",
       "      <td>18.000000</td>\n",
       "      <td>20.000000</td>\n",
       "      <td>1.000000</td>\n",
       "      <td>1.000000</td>\n",
       "      <td>1.000000</td>\n",
       "      <td>3.000000</td>\n",
       "    </tr>\n",
       "  </tbody>\n",
       "</table>\n",
       "<p>8 rows × 21 columns</p>\n",
       "</div>"
      ],
      "text/plain": [
       "       battery_power       blue  clock_speed     dual_sim           fc  \\\n",
       "count    2000.000000  2000.0000  2000.000000  2000.000000  2000.000000   \n",
       "mean     1238.518500     0.4950     1.522250     0.509500     4.309500   \n",
       "std       439.418206     0.5001     0.816004     0.500035     4.341444   \n",
       "min       501.000000     0.0000     0.500000     0.000000     0.000000   \n",
       "25%       851.750000     0.0000     0.700000     0.000000     1.000000   \n",
       "50%      1226.000000     0.0000     1.500000     1.000000     3.000000   \n",
       "75%      1615.250000     1.0000     2.200000     1.000000     7.000000   \n",
       "max      1998.000000     1.0000     3.000000     1.000000    19.000000   \n",
       "\n",
       "            four_g   int_memory        m_dep    mobile_wt      n_cores  ...  \\\n",
       "count  2000.000000  2000.000000  2000.000000  2000.000000  2000.000000  ...   \n",
       "mean      0.521500    32.046500     0.501750   140.249000     4.520500  ...   \n",
       "std       0.499662    18.145715     0.288416    35.399655     2.287837  ...   \n",
       "min       0.000000     2.000000     0.100000    80.000000     1.000000  ...   \n",
       "25%       0.000000    16.000000     0.200000   109.000000     3.000000  ...   \n",
       "50%       1.000000    32.000000     0.500000   141.000000     4.000000  ...   \n",
       "75%       1.000000    48.000000     0.800000   170.000000     7.000000  ...   \n",
       "max       1.000000    64.000000     1.000000   200.000000     8.000000  ...   \n",
       "\n",
       "         px_height     px_width          ram         sc_h         sc_w  \\\n",
       "count  2000.000000  2000.000000  2000.000000  2000.000000  2000.000000   \n",
       "mean    645.108000  1251.515500  2124.213000    12.306500     5.767000   \n",
       "std     443.780811   432.199447  1084.732044     4.213245     4.356398   \n",
       "min       0.000000   500.000000   256.000000     5.000000     0.000000   \n",
       "25%     282.750000   874.750000  1207.500000     9.000000     2.000000   \n",
       "50%     564.000000  1247.000000  2146.500000    12.000000     5.000000   \n",
       "75%     947.250000  1633.000000  3064.500000    16.000000     9.000000   \n",
       "max    1960.000000  1998.000000  3998.000000    19.000000    18.000000   \n",
       "\n",
       "         talk_time      three_g  touch_screen         wifi  price_range  \n",
       "count  2000.000000  2000.000000   2000.000000  2000.000000  2000.000000  \n",
       "mean     11.011000     0.761500      0.503000     0.507000     1.500000  \n",
       "std       5.463955     0.426273      0.500116     0.500076     1.118314  \n",
       "min       2.000000     0.000000      0.000000     0.000000     0.000000  \n",
       "25%       6.000000     1.000000      0.000000     0.000000     0.750000  \n",
       "50%      11.000000     1.000000      1.000000     1.000000     1.500000  \n",
       "75%      16.000000     1.000000      1.000000     1.000000     2.250000  \n",
       "max      20.000000     1.000000      1.000000     1.000000     3.000000  \n",
       "\n",
       "[8 rows x 21 columns]"
      ]
     },
     "execution_count": 32,
     "metadata": {},
     "output_type": "execute_result"
    }
   ],
   "source": [
    "# prints the description of the data in hte dataframe\n",
    "df.describe()"
   ]
  },
  {
   "cell_type": "code",
   "execution_count": 7,
   "id": "16426a38",
   "metadata": {},
   "outputs": [
    {
     "data": {
      "text/plain": [
       "battery_power    0\n",
       "blue             0\n",
       "clock_speed      0\n",
       "dual_sim         0\n",
       "fc               0\n",
       "four_g           0\n",
       "int_memory       0\n",
       "m_dep            0\n",
       "mobile_wt        0\n",
       "n_cores          0\n",
       "pc               0\n",
       "px_height        0\n",
       "px_width         0\n",
       "ram              0\n",
       "sc_h             0\n",
       "sc_w             0\n",
       "talk_time        0\n",
       "three_g          0\n",
       "touch_screen     0\n",
       "wifi             0\n",
       "price_range      0\n",
       "dtype: int64"
      ]
     },
     "execution_count": 7,
     "metadata": {},
     "output_type": "execute_result"
    }
   ],
   "source": [
    "#Checking whether null values are present or not\n",
    "df.isnull().sum()"
   ]
  },
  {
   "cell_type": "code",
   "execution_count": null,
   "id": "a2421c85",
   "metadata": {},
   "outputs": [],
   "source": [
    "# no null vales are present"
   ]
  },
  {
   "cell_type": "code",
   "execution_count": 8,
   "id": "0b942afa",
   "metadata": {},
   "outputs": [
    {
     "name": "stdout",
     "output_type": "stream",
     "text": [
      "<class 'pandas.core.frame.DataFrame'>\n",
      "<class 'pandas.core.series.Series'>\n"
     ]
    }
   ],
   "source": [
    "x = df[['px_height']]\n",
    "y = df['price_range']\n",
    "print(type(x))\n",
    "print(type(y))"
   ]
  },
  {
   "cell_type": "code",
   "execution_count": 9,
   "id": "f96be00d",
   "metadata": {},
   "outputs": [
    {
     "name": "stdout",
     "output_type": "stream",
     "text": [
      "(1500, 1)\n",
      "(500, 1)\n",
      "(1500,)\n",
      "(500,)\n"
     ]
    }
   ],
   "source": [
    "#dividing the data into training and testing data\n",
    "\n",
    "from sklearn.model_selection import train_test_split\n",
    "x_train,x_test,y_train,y_test = train_test_split(x,y,test_size = 0.25)\n",
    "print(x_train.shape)\n",
    "print(x_test.shape)\n",
    "print(y_train.shape)\n",
    "print(y_test.shape)\n"
   ]
  },
  {
   "cell_type": "code",
   "execution_count": 10,
   "id": "4721687a",
   "metadata": {},
   "outputs": [
    {
     "data": {
      "text/plain": [
       "LogisticRegression()"
      ]
     },
     "execution_count": 10,
     "metadata": {},
     "output_type": "execute_result"
    }
   ],
   "source": [
    "# 1.Applying Logistic Regression\n",
    "\n",
    "from sklearn.linear_model import LogisticRegression\n",
    "m1 = LogisticRegression()\n",
    "m1.fit(x_train,y_train)"
   ]
  },
  {
   "cell_type": "code",
   "execution_count": 11,
   "id": "c4050efb",
   "metadata": {},
   "outputs": [
    {
     "name": "stdout",
     "output_type": "stream",
     "text": [
      "[0 3 1 0 3 0 0 1 0 3 3 0 0 3 3 3 0 0 0 3 0 3 0 3 0 0 0 1 1 1 1 3 0 0 3 0 3\n",
      " 1 0 3 0 0 0 0 0 1 0 3 0 3 0 3 3 1 0 0 0 0 1 3 0 0 3 0 1 3 0 3 0 0 1 3 3 0\n",
      " 0 0 0 1 3 3 0 3 3 3 0 0 0 0 0 0 0 0 0 0 1 3 0 3 1 0 3 3 1 0 0 3 1 3 3 1 0\n",
      " 3 1 3 0 1 0 0 0 0 3 3 3 3 1 3 1 3 1 3 0 0 3 0 0 0 3 0 1 0 0 0 3 0 3 3 0 1\n",
      " 0 3 3 0 3 3 1 0 0 0 0 0 0 0 3 0 3 1 0 0 0 1 0 3 1 3 0 0 0 0 3 0 0 3 0 0 3\n",
      " 3 0 0 3 1 0 0 3 3 0 3 0 3 0 1 0 0 0 0 0 3 0 3 3 0 3 3 1 1 1 0 3 3 0 3 0 0\n",
      " 1 0 1 3 3 3 0 3 0 3 1 3 1 0 3 0 0 0 3 3 3 0 0 3 3 0 1 0 0 0 0 3 0 3 3 1 0\n",
      " 3 0 3 0 0 3 0 0 0 3 3 0 0 3 3 3 0 3 1 3 3 0 3 0 3 0 0 0 0 0 0 3 0 0 3 3 0\n",
      " 3 3 3 3 3 3 0 0 0 3 0 1 3 0 3 3 0 0 0 0 3 0 0 0 0 3 0 3 3 3 1 0 0 0 0 0 0\n",
      " 0 3 0 0 3 1 3 0 3 0 3 0 0 1 0 3 1 3 3 1 0 0 0 1 0 0 0 3 3 1 0 0 3 3 1 1 3\n",
      " 3 0 0 0 0 0 1 0 3 1 3 0 0 0 0 1 3 0 0 3 3 0 0 0 3 0 1 0 0 0 0 0 3 0 3 3 0\n",
      " 3 3 1 0 0 1 3 0 0 3 0 3 3 1 0 1 3 0 0 1 3 3 0 0 0 3 3 1 1 3 0 0 0 3 1 3 3\n",
      " 1 3 3 0 1 3 0 3 0 0 3 0 0 0 3 0 0 1 3 0 3 0 0 3 1 1 0 0 1 3 0 3 0 0 0 3 3\n",
      " 3 0 0 0 3 3 3 3 3 3 0 1 1 0 3 3 0 0 0]\n"
     ]
    }
   ],
   "source": [
    "ypred1 = m1.predict(x_test) #Predicting 'y' values from x_test data\n",
    "print(ypred1)"
   ]
  },
  {
   "cell_type": "code",
   "execution_count": 12,
   "id": "a81f547c",
   "metadata": {},
   "outputs": [
    {
     "name": "stdout",
     "output_type": "stream",
     "text": [
      "      y_test  ypred1\n",
      "863        0       0\n",
      "1353       3       3\n",
      "1325       0       1\n",
      "1297       3       0\n",
      "1465       1       3\n",
      "...      ...     ...\n",
      "678        3       3\n",
      "452        3       3\n",
      "1422       2       0\n",
      "176        0       0\n",
      "841        1       0\n",
      "\n",
      "[500 rows x 2 columns]\n"
     ]
    }
   ],
   "source": [
    "res = print(pd.DataFrame({'y_test':y_test,'ypred1':ypred1}))\n"
   ]
  },
  {
   "cell_type": "code",
   "execution_count": 13,
   "id": "65313486",
   "metadata": {},
   "outputs": [
    {
     "name": "stdout",
     "output_type": "stream",
     "text": [
      "slope [[-5.64415712e-04]\n",
      " [ 1.35805125e-04]\n",
      " [-2.52059779e-05]\n",
      " [ 4.53816565e-04]]\n",
      "intercept [ 0.33703759 -0.05850651  0.02319603 -0.30172712]\n"
     ]
    }
   ],
   "source": [
    "#y = mx+c\n",
    "m = m1.coef_\n",
    "c = m1.intercept_\n",
    "print(\"slope\",m)\n",
    "print(\"intercept\",c)"
   ]
  },
  {
   "cell_type": "code",
   "execution_count": 14,
   "id": "772e3071",
   "metadata": {},
   "outputs": [],
   "source": [
    "#Creating Logistic Function\n",
    "\n",
    "def logistic(x,m,c):\n",
    "  sig = 1/(1+np.exp(-(m*x+c)))\n",
    "  print(sig)"
   ]
  },
  {
   "cell_type": "code",
   "execution_count": 15,
   "id": "9bc47988",
   "metadata": {},
   "outputs": [
    {
     "name": "stdout",
     "output_type": "stream",
     "text": [
      "[[0.56567533 0.46721806 0.48759915 0.40744524]\n",
      " [0.58772207 0.48975452 0.51017732 0.42942237]\n",
      " [0.58268029 0.48456539 0.50498595 0.42434085]\n",
      " [0.59762523 0.50000896 0.52042322 0.43950166]]\n"
     ]
    }
   ],
   "source": [
    "logistic(129,m,c)\n"
   ]
  },
  {
   "cell_type": "code",
   "execution_count": 16,
   "id": "6d472e96",
   "metadata": {},
   "outputs": [
    {
     "name": "stdout",
     "output_type": "stream",
     "text": [
      "[[77 21  0 31]\n",
      " [58 16  0 44]\n",
      " [66 16  0 45]\n",
      " [47 18  0 61]]\n",
      "              precision    recall  f1-score   support\n",
      "\n",
      "           0       0.31      0.60      0.41       129\n",
      "           1       0.23      0.14      0.17       118\n",
      "           2       0.00      0.00      0.00       127\n",
      "           3       0.34      0.48      0.40       126\n",
      "\n",
      "    accuracy                           0.31       500\n",
      "   macro avg       0.22      0.30      0.24       500\n",
      "weighted avg       0.22      0.31      0.25       500\n",
      "\n"
     ]
    },
    {
     "name": "stderr",
     "output_type": "stream",
     "text": [
      "C:\\Users\\keert\\anaconda3\\lib\\site-packages\\sklearn\\metrics\\_classification.py:1248: UndefinedMetricWarning: Precision and F-score are ill-defined and being set to 0.0 in labels with no predicted samples. Use `zero_division` parameter to control this behavior.\n",
      "  _warn_prf(average, modifier, msg_start, len(result))\n",
      "C:\\Users\\keert\\anaconda3\\lib\\site-packages\\sklearn\\metrics\\_classification.py:1248: UndefinedMetricWarning: Precision and F-score are ill-defined and being set to 0.0 in labels with no predicted samples. Use `zero_division` parameter to control this behavior.\n",
      "  _warn_prf(average, modifier, msg_start, len(result))\n",
      "C:\\Users\\keert\\anaconda3\\lib\\site-packages\\sklearn\\metrics\\_classification.py:1248: UndefinedMetricWarning: Precision and F-score are ill-defined and being set to 0.0 in labels with no predicted samples. Use `zero_division` parameter to control this behavior.\n",
      "  _warn_prf(average, modifier, msg_start, len(result))\n"
     ]
    }
   ],
   "source": [
    "#Computing Confusion matrix and Classification report\n",
    "\n",
    "from sklearn.metrics import confusion_matrix,classification_report\n",
    "cm_1 = confusion_matrix(y_test,ypred1)\n",
    "print(cm_1)\n",
    "print(classification_report(y_test,ypred1))"
   ]
  },
  {
   "cell_type": "code",
   "execution_count": 17,
   "id": "bd5edb9b",
   "metadata": {},
   "outputs": [
    {
     "data": {
      "text/plain": [
       "KNeighborsClassifier(n_neighbors=15)"
      ]
     },
     "execution_count": 17,
     "metadata": {},
     "output_type": "execute_result"
    }
   ],
   "source": [
    "# 2.Applying KNN Algorithm\n",
    "\n",
    "df = pd.read_csv(\"mobile_price_range_data (2).csv\")\n",
    "from sklearn.neighbors import KNeighborsClassifier\n",
    "m2 = KNeighborsClassifier(n_neighbors=15)\n",
    "m2.fit(x_train,y_train)"
   ]
  },
  {
   "cell_type": "code",
   "execution_count": 19,
   "id": "108b1c1e",
   "metadata": {},
   "outputs": [
    {
     "name": "stdout",
     "output_type": "stream",
     "text": [
      "[2 3 2 0 0 2 0 0 2 0 0 2 0 3 0 3 0 0 1 3 0 3 0 1 2 3 2 0 1 0 2 2 0 2 3 0 3\n",
      " 0 2 3 3 0 0 1 0 1 0 3 0 3 1 3 0 2 3 1 3 0 2 3 2 0 1 0 2 1 0 2 3 2 3 3 3 0\n",
      " 0 0 2 1 3 3 0 3 0 3 2 3 0 2 0 1 0 0 0 3 0 0 0 0 0 0 1 3 2 0 1 3 1 3 3 1 0\n",
      " 1 0 0 0 2 2 0 0 1 2 3 0 1 1 1 0 3 1 3 0 1 2 0 1 3 3 1 2 3 3 0 0 0 1 1 1 1\n",
      " 1 0 2 0 0 2 3 2 0 0 1 2 0 3 3 1 3 0 2 0 1 2 0 3 3 3 1 2 1 0 1 3 1 1 2 0 0\n",
      " 3 0 0 2 0 1 1 0 3 2 0 2 3 1 0 0 0 3 1 0 3 0 3 1 3 0 2 0 1 1 2 2 0 0 2 1 3\n",
      " 0 3 1 2 1 1 2 0 0 1 1 3 0 0 3 0 1 2 3 1 3 2 2 3 3 2 3 0 2 0 3 3 1 0 1 1 0\n",
      " 2 2 1 0 0 3 0 2 0 0 3 2 1 3 2 1 2 3 2 2 1 0 0 3 0 0 3 3 1 0 2 0 2 2 1 0 0\n",
      " 2 3 3 3 3 3 0 1 3 0 0 0 1 0 3 3 2 1 0 2 1 2 1 0 0 1 3 1 3 3 0 1 0 0 0 1 0\n",
      " 2 0 2 0 0 0 0 2 3 2 1 1 1 0 1 0 3 2 3 1 1 2 2 1 1 0 2 3 3 0 1 2 2 2 0 3 3\n",
      " 3 3 2 0 3 1 2 2 2 0 3 0 1 2 0 0 2 0 3 2 1 3 0 1 3 3 0 2 0 2 2 2 0 0 0 3 0\n",
      " 2 3 1 0 1 0 1 3 0 0 0 2 0 3 0 1 1 2 1 1 1 3 1 0 3 1 1 0 1 0 2 2 0 0 0 2 2\n",
      " 1 0 3 2 1 3 0 0 0 0 3 0 2 3 3 2 0 0 0 3 1 2 2 3 2 0 0 0 1 2 0 2 2 0 1 3 3\n",
      " 3 2 0 3 3 0 0 2 1 1 0 0 1 0 3 0 2 1 0]\n"
     ]
    }
   ],
   "source": [
    "ypred2=m2.predict(x_test)\n",
    "print(ypred2)"
   ]
  },
  {
   "cell_type": "code",
   "execution_count": 21,
   "id": "20af570a",
   "metadata": {},
   "outputs": [
    {
     "name": "stdout",
     "output_type": "stream",
     "text": [
      "[[48 28 33 20]\n",
      " [41 23 24 30]\n",
      " [45 24 24 34]\n",
      " [43 29 23 31]]\n"
     ]
    },
    {
     "data": {
      "text/plain": [
       "'              precision    recall  f1-score   support\\n\\n           0       0.27      0.37      0.31       129\\n           1       0.22      0.19      0.21       118\\n           2       0.23      0.19      0.21       127\\n           3       0.27      0.25      0.26       126\\n\\n    accuracy                           0.25       500\\n   macro avg       0.25      0.25      0.25       500\\nweighted avg       0.25      0.25      0.25       500\\n'"
      ]
     },
     "execution_count": 21,
     "metadata": {},
     "output_type": "execute_result"
    }
   ],
   "source": [
    "#Computing Confusion matrix and Classification report\n",
    "\n",
    "from sklearn.metrics import confusion_matrix,classification_report\n",
    "cm_2 = confusion_matrix(y_test,ypred2)\n",
    "print(cm_2)\n",
    "classification_report(y_test,ypred2)"
   ]
  },
  {
   "cell_type": "code",
   "execution_count": 22,
   "id": "255b91de",
   "metadata": {},
   "outputs": [
    {
     "data": {
      "text/plain": [
       "DecisionTreeClassifier(max_depth=4, min_samples_split=12)"
      ]
     },
     "execution_count": 22,
     "metadata": {},
     "output_type": "execute_result"
    }
   ],
   "source": [
    "# 3.Applying Decision Tree Classification\n",
    "\n",
    "df = pd.read_csv(\"mobile_price_range_data (2).csv\")\n",
    "from sklearn.tree import DecisionTreeClassifier\n",
    "m3 = DecisionTreeClassifier(criterion='gini',max_depth=4,min_samples_split = 12)\n",
    "m3.fit(x_train,y_train)"
   ]
  },
  {
   "cell_type": "code",
   "execution_count": 23,
   "id": "724d9c55",
   "metadata": {},
   "outputs": [
    {
     "name": "stdout",
     "output_type": "stream",
     "text": [
      "[0 2 1 0 1 0 0 1 2 1 1 0 0 3 1 1 0 0 0 1 0 3 0 1 1 0 0 1 1 1 1 1 0 0 1 0 3\n",
      " 1 0 3 0 0 0 0 2 1 0 1 0 1 0 2 1 1 0 0 0 0 1 1 0 2 1 0 1 3 2 1 0 0 1 1 1 2\n",
      " 0 0 0 1 1 3 0 3 1 1 0 0 0 0 0 0 0 0 0 0 1 1 0 1 1 0 2 3 1 0 0 1 1 3 1 1 0\n",
      " 1 1 1 0 1 0 0 0 0 3 3 1 1 1 1 1 3 1 3 1 0 1 0 0 0 2 0 1 0 0 0 1 0 1 2 0 1\n",
      " 0 1 2 0 1 1 1 0 0 2 0 0 0 0 1 0 3 1 1 0 0 1 0 1 1 3 1 0 1 0 1 0 1 1 0 0 1\n",
      " 3 0 0 1 1 1 0 1 3 0 1 2 3 0 1 0 0 0 0 0 2 2 1 1 0 1 3 1 1 1 0 3 1 0 1 0 0\n",
      " 1 0 1 1 1 1 1 1 0 1 1 3 1 2 3 0 0 0 1 1 1 0 0 1 3 0 1 2 2 0 0 1 0 1 1 1 0\n",
      " 1 0 1 0 2 3 2 2 0 1 1 2 0 1 2 1 0 3 1 1 1 0 1 0 1 0 0 0 0 0 2 1 0 0 1 1 0\n",
      " 3 3 1 1 3 1 2 0 0 1 0 1 1 2 1 1 0 1 2 0 1 2 0 0 0 2 0 1 3 3 1 2 0 0 0 1 0\n",
      " 0 1 0 2 1 1 1 0 3 1 1 0 0 1 0 1 1 1 3 1 0 0 1 1 0 0 1 1 3 1 0 0 3 3 1 1 2\n",
      " 1 0 0 0 0 2 1 0 3 1 3 2 0 2 0 1 1 0 0 3 2 0 0 0 1 0 1 0 0 0 0 2 1 0 1 3 0\n",
      " 1 1 1 0 0 1 1 0 0 1 1 1 1 1 0 1 1 1 0 1 1 3 1 0 0 1 1 1 1 1 0 0 0 1 1 1 3\n",
      " 1 1 3 0 1 1 0 1 0 0 1 0 0 0 3 1 0 1 1 0 1 1 0 3 1 1 0 2 1 3 2 3 2 0 0 3 3\n",
      " 1 1 0 0 1 1 1 1 1 2 0 1 1 0 1 1 0 2 0]\n"
     ]
    }
   ],
   "source": [
    "ypred3 = m3.predict(x_test)\n",
    "print(ypred3)"
   ]
  },
  {
   "cell_type": "code",
   "execution_count": 24,
   "id": "8913ed08",
   "metadata": {},
   "outputs": [
    {
     "name": "stdout",
     "output_type": "stream",
     "text": [
      "[[57 50 15  7]\n",
      " [47 47 10 14]\n",
      " [55 53  8 11]\n",
      " [40 61  9 16]]\n"
     ]
    },
    {
     "data": {
      "text/plain": [
       "'              precision    recall  f1-score   support\\n\\n           0       0.29      0.44      0.35       129\\n           1       0.22      0.40      0.29       118\\n           2       0.19      0.06      0.09       127\\n           3       0.33      0.13      0.18       126\\n\\n    accuracy                           0.26       500\\n   macro avg       0.26      0.26      0.23       500\\nweighted avg       0.26      0.26      0.23       500\\n'"
      ]
     },
     "execution_count": 24,
     "metadata": {},
     "output_type": "execute_result"
    }
   ],
   "source": [
    "#Computing Confusion matrix and Classification report\n",
    "\n",
    "from sklearn.metrics import confusion_matrix , classification_report\n",
    "cm_3 = confusion_matrix(y_test,ypred3)\n",
    "print(cm_3)\n",
    "classification_report(y_test,ypred3)"
   ]
  },
  {
   "cell_type": "code",
   "execution_count": 25,
   "id": "dfc55da1",
   "metadata": {},
   "outputs": [
    {
     "data": {
      "text/plain": [
       "RandomForestClassifier(criterion='entropy', max_depth=6, min_samples_split=12,\n",
       "                       n_estimators=80)"
      ]
     },
     "execution_count": 25,
     "metadata": {},
     "output_type": "execute_result"
    }
   ],
   "source": [
    "# 4.Applying Random Forest Clssification\n",
    "\n",
    "df = pd.read_csv(\"mobile_price_range_data (2).csv\")\n",
    "from sklearn.ensemble import RandomForestClassifier\n",
    "m4 = RandomForestClassifier(n_estimators= 80,criterion='entropy',max_depth=6,min_samples_split = 12)\n",
    "m4.fit(x_train,y_train)"
   ]
  },
  {
   "cell_type": "code",
   "execution_count": 26,
   "id": "6f20b7bb",
   "metadata": {},
   "outputs": [
    {
     "name": "stdout",
     "output_type": "stream",
     "text": [
      "[2 2 1 0 1 2 0 1 1 1 2 0 2 3 1 3 2 2 2 2 0 3 2 1 2 2 1 1 1 2 2 2 1 2 3 2 3\n",
      " 2 0 3 0 2 0 0 0 1 2 1 0 1 0 3 0 1 0 0 0 2 1 2 2 0 1 0 1 1 2 2 0 0 1 1 3 0\n",
      " 2 0 0 1 1 3 0 3 1 1 3 0 0 2 0 0 0 0 0 0 1 1 0 1 2 2 1 3 1 0 1 1 1 3 1 1 0\n",
      " 1 0 3 0 2 0 0 0 1 2 3 1 1 1 1 0 3 1 3 2 0 1 0 0 2 3 2 1 3 0 0 1 0 1 2 0 1\n",
      " 1 1 2 1 3 2 3 2 0 0 1 2 3 2 3 1 3 1 2 0 2 1 0 2 1 3 1 2 2 2 1 0 1 1 2 0 1\n",
      " 3 0 0 3 2 2 2 1 3 2 2 0 3 1 2 2 2 0 1 0 3 0 1 1 0 1 2 1 3 1 2 2 1 0 2 1 0\n",
      " 2 0 1 2 1 1 2 2 0 1 1 3 1 0 3 0 0 2 1 1 1 0 2 1 3 2 2 0 0 0 0 2 1 3 1 1 0\n",
      " 3 0 1 0 2 3 0 0 1 3 1 0 1 2 2 1 1 3 1 2 1 0 1 0 0 0 2 0 0 0 2 1 0 2 1 0 0\n",
      " 2 3 3 2 3 2 0 0 3 3 2 1 1 0 1 1 2 2 0 1 1 2 2 0 0 1 0 1 3 3 1 1 0 0 0 2 0\n",
      " 2 0 3 0 1 2 3 2 3 2 1 2 2 0 1 0 1 2 3 1 1 2 2 1 2 0 2 1 2 0 1 2 3 2 0 1 2\n",
      " 3 0 2 0 2 0 2 2 2 0 3 0 0 2 0 0 2 2 2 2 2 2 2 0 2 3 0 2 0 2 2 0 3 0 1 3 0\n",
      " 1 1 1 0 0 2 1 2 0 1 1 1 1 0 0 1 1 2 0 1 1 1 1 0 2 1 1 1 1 1 2 1 0 1 1 2 3\n",
      " 1 3 3 2 1 1 0 1 0 0 1 0 2 0 3 2 0 0 0 0 1 2 2 3 2 2 0 0 1 3 0 2 0 0 1 3 3\n",
      " 1 2 0 0 1 1 1 2 1 2 0 1 1 0 2 1 2 0 1]\n"
     ]
    }
   ],
   "source": [
    "ypred4= m4.predict(x_test)\n",
    "print(ypred4)"
   ]
  },
  {
   "cell_type": "code",
   "execution_count": 27,
   "id": "5d638da7",
   "metadata": {},
   "outputs": [
    {
     "name": "stdout",
     "output_type": "stream",
     "text": [
      "[[45 36 38 10]\n",
      " [35 37 33 13]\n",
      " [42 36 31 18]\n",
      " [25 45 33 23]]\n"
     ]
    },
    {
     "data": {
      "text/plain": [
       "'              precision    recall  f1-score   support\\n\\n           0       0.31      0.35      0.33       129\\n           1       0.24      0.31      0.27       118\\n           2       0.23      0.24      0.24       127\\n           3       0.36      0.18      0.24       126\\n\\n    accuracy                           0.27       500\\n   macro avg       0.28      0.27      0.27       500\\nweighted avg       0.28      0.27      0.27       500\\n'"
      ]
     },
     "execution_count": 27,
     "metadata": {},
     "output_type": "execute_result"
    }
   ],
   "source": [
    "#Computing Confusion matrix and Classification report\n",
    "\n",
    "from sklearn.metrics import confusion_matrix , classification_report\n",
    "cm_4 = confusion_matrix(y_test,ypred4)\n",
    "print(cm_4)\n",
    "classification_report(y_test,ypred4)"
   ]
  },
  {
   "cell_type": "code",
   "execution_count": null,
   "id": "c3113133",
   "metadata": {},
   "outputs": [],
   "source": [
    "# By observing the accuracy of every applied algorithm, Logistic Regression has given the highest accuracy \n",
    "#for the taken dataset"
   ]
  },
  {
   "cell_type": "code",
   "execution_count": null,
   "id": "c5658d1d",
   "metadata": {},
   "outputs": [],
   "source": []
  },
  {
   "cell_type": "code",
   "execution_count": null,
   "id": "2fa254d4",
   "metadata": {},
   "outputs": [],
   "source": []
  },
  {
   "cell_type": "code",
   "execution_count": null,
   "id": "03028020",
   "metadata": {},
   "outputs": [],
   "source": []
  },
  {
   "cell_type": "code",
   "execution_count": null,
   "id": "dd62da58",
   "metadata": {},
   "outputs": [],
   "source": []
  },
  {
   "cell_type": "code",
   "execution_count": null,
   "id": "c597d5a8",
   "metadata": {},
   "outputs": [],
   "source": []
  },
  {
   "cell_type": "code",
   "execution_count": null,
   "id": "2418327d",
   "metadata": {},
   "outputs": [],
   "source": []
  }
 ],
 "metadata": {
  "kernelspec": {
   "display_name": "Python 3 (ipykernel)",
   "language": "python",
   "name": "python3"
  },
  "language_info": {
   "codemirror_mode": {
    "name": "ipython",
    "version": 3
   },
   "file_extension": ".py",
   "mimetype": "text/x-python",
   "name": "python",
   "nbconvert_exporter": "python",
   "pygments_lexer": "ipython3",
   "version": "3.9.7"
  }
 },
 "nbformat": 4,
 "nbformat_minor": 5
}
